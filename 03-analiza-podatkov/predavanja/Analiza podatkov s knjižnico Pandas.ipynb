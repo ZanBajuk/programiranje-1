{
 "cells": [
  {
   "cell_type": "markdown",
   "metadata": {},
   "source": [
    "# Analiza podatkov s knjižnico Pandas\n",
    "\n",
    "Spodaj je pregled najosnovnejših metod, ki jih ponuja knjižnica Pandas. Vsaka od naštetih metod ponuja še cel kup dodatnih možnosti, ki so natančno opisane v [uradni dokumentaciji](http://pandas.pydata.org/pandas-docs/stable/). Z branjem dokumentacije se vam seveda najbolj splača začeti pri [uvodih](http://pandas.pydata.org/pandas-docs/stable/tutorials.html)."
   ]
  },
  {
   "cell_type": "markdown",
   "metadata": {},
   "source": [
    "## Predpriprava"
   ]
  },
  {
   "cell_type": "code",
   "execution_count": 2,
   "metadata": {},
   "outputs": [],
   "source": [
    "# naložimo paket\n",
    "import pandas as pd\n",
    "\n",
    "# naložimo razpredelnico, s katero bomo delali\n",
    "filmi = pd.read_csv('../../02-zajem-podatkov/predavanja/obdelani-podatki/filmi.csv', index_col='id')\n",
    "\n",
    "# ker bomo delali z velikimi razpredelnicami, povemo, da naj se vedno izpiše le 20 vrstic\n",
    "pd.options.display.max_rows = 20"
   ]
  },
  {
   "cell_type": "markdown",
   "metadata": {},
   "source": [
    "## Osnovni izbori elementov razpredelnic"
   ]
  },
  {
   "cell_type": "markdown",
   "metadata": {},
   "source": [
    "Z metodo `.head(n=5)` pogledamo prvih `n`, z metodo `.tail(n=5)` pa zadnjih `n` vrstic razpredelnice."
   ]
  },
  {
   "cell_type": "code",
   "execution_count": 3,
   "metadata": {
    "scrolled": true
   },
   "outputs": [
    {
     "data": {
      "text/html": [
       "<div>\n",
       "<style scoped>\n",
       "    .dataframe tbody tr th:only-of-type {\n",
       "        vertical-align: middle;\n",
       "    }\n",
       "\n",
       "    .dataframe tbody tr th {\n",
       "        vertical-align: top;\n",
       "    }\n",
       "\n",
       "    .dataframe thead th {\n",
       "        text-align: right;\n",
       "    }\n",
       "</style>\n",
       "<table border=\"1\" class=\"dataframe\">\n",
       "  <thead>\n",
       "    <tr style=\"text-align: right;\">\n",
       "      <th></th>\n",
       "      <th>naslov</th>\n",
       "      <th>dolzina</th>\n",
       "      <th>leto</th>\n",
       "      <th>ocena</th>\n",
       "      <th>metascore</th>\n",
       "      <th>glasovi</th>\n",
       "      <th>zasluzek</th>\n",
       "      <th>oznaka</th>\n",
       "      <th>opis</th>\n",
       "    </tr>\n",
       "    <tr>\n",
       "      <th>id</th>\n",
       "      <th></th>\n",
       "      <th></th>\n",
       "      <th></th>\n",
       "      <th></th>\n",
       "      <th></th>\n",
       "      <th></th>\n",
       "      <th></th>\n",
       "      <th></th>\n",
       "      <th></th>\n",
       "    </tr>\n",
       "  </thead>\n",
       "  <tbody>\n",
       "    <tr>\n",
       "      <td>4972</td>\n",
       "      <td>The Birth of a Nation</td>\n",
       "      <td>195</td>\n",
       "      <td>1915</td>\n",
       "      <td>6.4</td>\n",
       "      <td>NaN</td>\n",
       "      <td>20737</td>\n",
       "      <td>10000000.0</td>\n",
       "      <td>NaN</td>\n",
       "      <td>The Stoneman family finds its friendship with ...</td>\n",
       "    </tr>\n",
       "    <tr>\n",
       "      <td>6864</td>\n",
       "      <td>Intolerance: Love's Struggle Throughout the Ages</td>\n",
       "      <td>163</td>\n",
       "      <td>1916</td>\n",
       "      <td>7.8</td>\n",
       "      <td>92.0</td>\n",
       "      <td>13031</td>\n",
       "      <td>2180000.0</td>\n",
       "      <td>NaN</td>\n",
       "      <td>The story of a poor young woman, separated by ...</td>\n",
       "    </tr>\n",
       "    <tr>\n",
       "      <td>9968</td>\n",
       "      <td>Broken Blossoms or The Yellow Man and the Girl</td>\n",
       "      <td>90</td>\n",
       "      <td>1919</td>\n",
       "      <td>7.4</td>\n",
       "      <td>NaN</td>\n",
       "      <td>8700</td>\n",
       "      <td>NaN</td>\n",
       "      <td>NaN</td>\n",
       "      <td>A frail waif, abused by her brutal boxer fathe...</td>\n",
       "    </tr>\n",
       "    <tr>\n",
       "      <td>10323</td>\n",
       "      <td>Das Cabinet des Dr. Caligari</td>\n",
       "      <td>76</td>\n",
       "      <td>1920</td>\n",
       "      <td>8.1</td>\n",
       "      <td>NaN</td>\n",
       "      <td>50866</td>\n",
       "      <td>NaN</td>\n",
       "      <td>NaN</td>\n",
       "      <td>Hypnotist Dr. Caligari uses a somnambulist, Ce...</td>\n",
       "    </tr>\n",
       "    <tr>\n",
       "      <td>12349</td>\n",
       "      <td>The Kid</td>\n",
       "      <td>68</td>\n",
       "      <td>1921</td>\n",
       "      <td>8.3</td>\n",
       "      <td>NaN</td>\n",
       "      <td>100210</td>\n",
       "      <td>5450000.0</td>\n",
       "      <td>NaN</td>\n",
       "      <td>The Tramp cares for an abandoned child, but ev...</td>\n",
       "    </tr>\n",
       "    <tr>\n",
       "      <td>12364</td>\n",
       "      <td>Körkarlen</td>\n",
       "      <td>100</td>\n",
       "      <td>1921</td>\n",
       "      <td>8.1</td>\n",
       "      <td>NaN</td>\n",
       "      <td>9106</td>\n",
       "      <td>NaN</td>\n",
       "      <td>NaN</td>\n",
       "      <td>On New Year's Eve, the driver of a ghostly car...</td>\n",
       "    </tr>\n",
       "    <tr>\n",
       "      <td>13086</td>\n",
       "      <td>Dr. Mabuse, der Spieler</td>\n",
       "      <td>242</td>\n",
       "      <td>1922</td>\n",
       "      <td>7.9</td>\n",
       "      <td>NaN</td>\n",
       "      <td>6751</td>\n",
       "      <td>NaN</td>\n",
       "      <td>NaN</td>\n",
       "      <td>Arch-criminal Dr. Mabuse sets out to make a fo...</td>\n",
       "    </tr>\n",
       "    <tr>\n",
       "      <td>13442</td>\n",
       "      <td>Nosferatu, simfonija groze</td>\n",
       "      <td>94</td>\n",
       "      <td>1922</td>\n",
       "      <td>7.9</td>\n",
       "      <td>NaN</td>\n",
       "      <td>81919</td>\n",
       "      <td>NaN</td>\n",
       "      <td>NaN</td>\n",
       "      <td>Vampire Count Orlok expresses interest in a ne...</td>\n",
       "    </tr>\n",
       "    <tr>\n",
       "      <td>14341</td>\n",
       "      <td>Naše gostoljubje</td>\n",
       "      <td>65</td>\n",
       "      <td>1923</td>\n",
       "      <td>7.9</td>\n",
       "      <td>NaN</td>\n",
       "      <td>9283</td>\n",
       "      <td>NaN</td>\n",
       "      <td>NaN</td>\n",
       "      <td>A man returns to his Appalachian homestead. On...</td>\n",
       "    </tr>\n",
       "    <tr>\n",
       "      <td>14429</td>\n",
       "      <td>Resitev v zadnjem trenutku</td>\n",
       "      <td>74</td>\n",
       "      <td>1923</td>\n",
       "      <td>8.1</td>\n",
       "      <td>NaN</td>\n",
       "      <td>16662</td>\n",
       "      <td>623809.0</td>\n",
       "      <td>NaN</td>\n",
       "      <td>A boy leaves his small country town and heads ...</td>\n",
       "    </tr>\n",
       "  </tbody>\n",
       "</table>\n",
       "</div>"
      ],
      "text/plain": [
       "                                                 naslov  dolzina  leto  ocena  \\\n",
       "id                                                                              \n",
       "4972                              The Birth of a Nation      195  1915    6.4   \n",
       "6864   Intolerance: Love's Struggle Throughout the Ages      163  1916    7.8   \n",
       "9968     Broken Blossoms or The Yellow Man and the Girl       90  1919    7.4   \n",
       "10323                      Das Cabinet des Dr. Caligari       76  1920    8.1   \n",
       "12349                                           The Kid       68  1921    8.3   \n",
       "12364                                         Körkarlen      100  1921    8.1   \n",
       "13086                           Dr. Mabuse, der Spieler      242  1922    7.9   \n",
       "13442                        Nosferatu, simfonija groze       94  1922    7.9   \n",
       "14341                                  Naše gostoljubje       65  1923    7.9   \n",
       "14429                        Resitev v zadnjem trenutku       74  1923    8.1   \n",
       "\n",
       "       metascore  glasovi    zasluzek oznaka  \\\n",
       "id                                             \n",
       "4972         NaN    20737  10000000.0    NaN   \n",
       "6864        92.0    13031   2180000.0    NaN   \n",
       "9968         NaN     8700         NaN    NaN   \n",
       "10323        NaN    50866         NaN    NaN   \n",
       "12349        NaN   100210   5450000.0    NaN   \n",
       "12364        NaN     9106         NaN    NaN   \n",
       "13086        NaN     6751         NaN    NaN   \n",
       "13442        NaN    81919         NaN    NaN   \n",
       "14341        NaN     9283         NaN    NaN   \n",
       "14429        NaN    16662    623809.0    NaN   \n",
       "\n",
       "                                                    opis  \n",
       "id                                                        \n",
       "4972   The Stoneman family finds its friendship with ...  \n",
       "6864   The story of a poor young woman, separated by ...  \n",
       "9968   A frail waif, abused by her brutal boxer fathe...  \n",
       "10323  Hypnotist Dr. Caligari uses a somnambulist, Ce...  \n",
       "12349  The Tramp cares for an abandoned child, but ev...  \n",
       "12364  On New Year's Eve, the driver of a ghostly car...  \n",
       "13086  Arch-criminal Dr. Mabuse sets out to make a fo...  \n",
       "13442  Vampire Count Orlok expresses interest in a ne...  \n",
       "14341  A man returns to his Appalachian homestead. On...  \n",
       "14429  A boy leaves his small country town and heads ...  "
      ]
     },
     "execution_count": 3,
     "metadata": {},
     "output_type": "execute_result"
    }
   ],
   "source": [
    "filmi.head(10)"
   ]
  },
  {
   "cell_type": "code",
   "execution_count": 4,
   "metadata": {},
   "outputs": [
    {
     "data": {
      "text/html": [
       "<div>\n",
       "<style scoped>\n",
       "    .dataframe tbody tr th:only-of-type {\n",
       "        vertical-align: middle;\n",
       "    }\n",
       "\n",
       "    .dataframe tbody tr th {\n",
       "        vertical-align: top;\n",
       "    }\n",
       "\n",
       "    .dataframe thead th {\n",
       "        text-align: right;\n",
       "    }\n",
       "</style>\n",
       "<table border=\"1\" class=\"dataframe\">\n",
       "  <thead>\n",
       "    <tr style=\"text-align: right;\">\n",
       "      <th></th>\n",
       "      <th>naslov</th>\n",
       "      <th>dolzina</th>\n",
       "      <th>leto</th>\n",
       "      <th>ocena</th>\n",
       "      <th>metascore</th>\n",
       "      <th>glasovi</th>\n",
       "      <th>zasluzek</th>\n",
       "      <th>oznaka</th>\n",
       "      <th>opis</th>\n",
       "    </tr>\n",
       "    <tr>\n",
       "      <th>id</th>\n",
       "      <th></th>\n",
       "      <th></th>\n",
       "      <th></th>\n",
       "      <th></th>\n",
       "      <th></th>\n",
       "      <th></th>\n",
       "      <th></th>\n",
       "      <th></th>\n",
       "      <th></th>\n",
       "    </tr>\n",
       "  </thead>\n",
       "  <tbody>\n",
       "    <tr>\n",
       "      <td>9398640</td>\n",
       "      <td>Between Two Ferns: The Movie</td>\n",
       "      <td>82</td>\n",
       "      <td>2019</td>\n",
       "      <td>6.2</td>\n",
       "      <td>58.0</td>\n",
       "      <td>7319</td>\n",
       "      <td>NaN</td>\n",
       "      <td>NaN</td>\n",
       "      <td>Zach Galifianakis and his oddball crew take a ...</td>\n",
       "    </tr>\n",
       "    <tr>\n",
       "      <td>9419834</td>\n",
       "      <td>Secret Obsession</td>\n",
       "      <td>97</td>\n",
       "      <td>2019</td>\n",
       "      <td>4.3</td>\n",
       "      <td>NaN</td>\n",
       "      <td>13308</td>\n",
       "      <td>NaN</td>\n",
       "      <td>NaN</td>\n",
       "      <td>Recuperating from trauma, Jennifer remains in ...</td>\n",
       "    </tr>\n",
       "    <tr>\n",
       "      <td>9495224</td>\n",
       "      <td>Black Mirror: Bandersnatch</td>\n",
       "      <td>90</td>\n",
       "      <td>2018</td>\n",
       "      <td>7.2</td>\n",
       "      <td>NaN</td>\n",
       "      <td>96998</td>\n",
       "      <td>NaN</td>\n",
       "      <td>NaN</td>\n",
       "      <td>In 1984, a young programmer begins to question...</td>\n",
       "    </tr>\n",
       "    <tr>\n",
       "      <td>9860728</td>\n",
       "      <td>Falling Inn Love</td>\n",
       "      <td>98</td>\n",
       "      <td>2019</td>\n",
       "      <td>5.6</td>\n",
       "      <td>NaN</td>\n",
       "      <td>7389</td>\n",
       "      <td>NaN</td>\n",
       "      <td>NaN</td>\n",
       "      <td>When city girl Gabriela spontaneously enters a...</td>\n",
       "    </tr>\n",
       "    <tr>\n",
       "      <td>10324144</td>\n",
       "      <td>Article 15</td>\n",
       "      <td>130</td>\n",
       "      <td>2019</td>\n",
       "      <td>8.3</td>\n",
       "      <td>NaN</td>\n",
       "      <td>11001</td>\n",
       "      <td>NaN</td>\n",
       "      <td>NaN</td>\n",
       "      <td>In the rural heartlands of India, an upright p...</td>\n",
       "    </tr>\n",
       "  </tbody>\n",
       "</table>\n",
       "</div>"
      ],
      "text/plain": [
       "                                naslov  dolzina  leto  ocena  metascore  \\\n",
       "id                                                                        \n",
       "9398640   Between Two Ferns: The Movie       82  2019    6.2       58.0   \n",
       "9419834               Secret Obsession       97  2019    4.3        NaN   \n",
       "9495224     Black Mirror: Bandersnatch       90  2018    7.2        NaN   \n",
       "9860728               Falling Inn Love       98  2019    5.6        NaN   \n",
       "10324144                    Article 15      130  2019    8.3        NaN   \n",
       "\n",
       "          glasovi  zasluzek oznaka  \\\n",
       "id                                   \n",
       "9398640      7319       NaN    NaN   \n",
       "9419834     13308       NaN    NaN   \n",
       "9495224     96998       NaN    NaN   \n",
       "9860728      7389       NaN    NaN   \n",
       "10324144    11001       NaN    NaN   \n",
       "\n",
       "                                                       opis  \n",
       "id                                                           \n",
       "9398640   Zach Galifianakis and his oddball crew take a ...  \n",
       "9419834   Recuperating from trauma, Jennifer remains in ...  \n",
       "9495224   In 1984, a young programmer begins to question...  \n",
       "9860728   When city girl Gabriela spontaneously enters a...  \n",
       "10324144  In the rural heartlands of India, an upright p...  "
      ]
     },
     "execution_count": 4,
     "metadata": {},
     "output_type": "execute_result"
    }
   ],
   "source": [
    "filmi.tail()"
   ]
  },
  {
   "cell_type": "markdown",
   "metadata": {},
   "source": [
    "Z rezinami pa dostopamo do izbranih vrstic."
   ]
  },
  {
   "cell_type": "code",
   "execution_count": 5,
   "metadata": {},
   "outputs": [
    {
     "data": {
      "text/html": [
       "<div>\n",
       "<style scoped>\n",
       "    .dataframe tbody tr th:only-of-type {\n",
       "        vertical-align: middle;\n",
       "    }\n",
       "\n",
       "    .dataframe tbody tr th {\n",
       "        vertical-align: top;\n",
       "    }\n",
       "\n",
       "    .dataframe thead th {\n",
       "        text-align: right;\n",
       "    }\n",
       "</style>\n",
       "<table border=\"1\" class=\"dataframe\">\n",
       "  <thead>\n",
       "    <tr style=\"text-align: right;\">\n",
       "      <th></th>\n",
       "      <th>naslov</th>\n",
       "      <th>dolzina</th>\n",
       "      <th>leto</th>\n",
       "      <th>ocena</th>\n",
       "      <th>metascore</th>\n",
       "      <th>glasovi</th>\n",
       "      <th>zasluzek</th>\n",
       "      <th>oznaka</th>\n",
       "      <th>opis</th>\n",
       "    </tr>\n",
       "    <tr>\n",
       "      <th>id</th>\n",
       "      <th></th>\n",
       "      <th></th>\n",
       "      <th></th>\n",
       "      <th></th>\n",
       "      <th></th>\n",
       "      <th></th>\n",
       "      <th></th>\n",
       "      <th></th>\n",
       "      <th></th>\n",
       "    </tr>\n",
       "  </thead>\n",
       "  <tbody>\n",
       "    <tr>\n",
       "      <td>10323</td>\n",
       "      <td>Das Cabinet des Dr. Caligari</td>\n",
       "      <td>76</td>\n",
       "      <td>1920</td>\n",
       "      <td>8.1</td>\n",
       "      <td>NaN</td>\n",
       "      <td>50866</td>\n",
       "      <td>NaN</td>\n",
       "      <td>NaN</td>\n",
       "      <td>Hypnotist Dr. Caligari uses a somnambulist, Ce...</td>\n",
       "    </tr>\n",
       "    <tr>\n",
       "      <td>12364</td>\n",
       "      <td>Körkarlen</td>\n",
       "      <td>100</td>\n",
       "      <td>1921</td>\n",
       "      <td>8.1</td>\n",
       "      <td>NaN</td>\n",
       "      <td>9106</td>\n",
       "      <td>NaN</td>\n",
       "      <td>NaN</td>\n",
       "      <td>On New Year's Eve, the driver of a ghostly car...</td>\n",
       "    </tr>\n",
       "    <tr>\n",
       "      <td>13442</td>\n",
       "      <td>Nosferatu, simfonija groze</td>\n",
       "      <td>94</td>\n",
       "      <td>1922</td>\n",
       "      <td>7.9</td>\n",
       "      <td>NaN</td>\n",
       "      <td>81919</td>\n",
       "      <td>NaN</td>\n",
       "      <td>NaN</td>\n",
       "      <td>Vampire Count Orlok expresses interest in a ne...</td>\n",
       "    </tr>\n",
       "    <tr>\n",
       "      <td>14429</td>\n",
       "      <td>Resitev v zadnjem trenutku</td>\n",
       "      <td>74</td>\n",
       "      <td>1923</td>\n",
       "      <td>8.1</td>\n",
       "      <td>NaN</td>\n",
       "      <td>16662</td>\n",
       "      <td>623809.0</td>\n",
       "      <td>NaN</td>\n",
       "      <td>A boy leaves his small country town and heads ...</td>\n",
       "    </tr>\n",
       "  </tbody>\n",
       "</table>\n",
       "</div>"
      ],
      "text/plain": [
       "                             naslov  dolzina  leto  ocena  metascore  glasovi  \\\n",
       "id                                                                              \n",
       "10323  Das Cabinet des Dr. Caligari       76  1920    8.1        NaN    50866   \n",
       "12364                     Körkarlen      100  1921    8.1        NaN     9106   \n",
       "13442    Nosferatu, simfonija groze       94  1922    7.9        NaN    81919   \n",
       "14429    Resitev v zadnjem trenutku       74  1923    8.1        NaN    16662   \n",
       "\n",
       "       zasluzek oznaka                                               opis  \n",
       "id                                                                         \n",
       "10323       NaN    NaN  Hypnotist Dr. Caligari uses a somnambulist, Ce...  \n",
       "12364       NaN    NaN  On New Year's Eve, the driver of a ghostly car...  \n",
       "13442       NaN    NaN  Vampire Count Orlok expresses interest in a ne...  \n",
       "14429  623809.0    NaN  A boy leaves his small country town and heads ...  "
      ]
     },
     "execution_count": 5,
     "metadata": {},
     "output_type": "execute_result"
    }
   ],
   "source": [
    "filmi[3:10:2]"
   ]
  },
  {
   "cell_type": "markdown",
   "metadata": {},
   "source": [
    "Z indeksiranjem razpredelnice dostopamo do posameznih stolpcev."
   ]
  },
  {
   "cell_type": "code",
   "execution_count": 6,
   "metadata": {
    "scrolled": true
   },
   "outputs": [
    {
     "data": {
      "text/plain": [
       "id\n",
       "4972        6.4\n",
       "6864        7.8\n",
       "9968        7.4\n",
       "10323       8.1\n",
       "12349       8.3\n",
       "           ... \n",
       "9398640     6.2\n",
       "9419834     4.3\n",
       "9495224     7.2\n",
       "9860728     5.6\n",
       "10324144    8.3\n",
       "Name: ocena, Length: 10000, dtype: float64"
      ]
     },
     "execution_count": 6,
     "metadata": {},
     "output_type": "execute_result"
    }
   ],
   "source": [
    "filmi['ocena']"
   ]
  },
  {
   "cell_type": "markdown",
   "metadata": {},
   "source": [
    "Do stolpcev pogosto dostopamo, zato lahko uporabimo tudi krajši zapis."
   ]
  },
  {
   "cell_type": "code",
   "execution_count": 7,
   "metadata": {},
   "outputs": [
    {
     "data": {
      "text/plain": [
       "id\n",
       "4972        6.4\n",
       "6864        7.8\n",
       "9968        7.4\n",
       "10323       8.1\n",
       "12349       8.3\n",
       "           ... \n",
       "9398640     6.2\n",
       "9419834     4.3\n",
       "9495224     7.2\n",
       "9860728     5.6\n",
       "10324144    8.3\n",
       "Name: ocena, Length: 10000, dtype: float64"
      ]
     },
     "execution_count": 7,
     "metadata": {},
     "output_type": "execute_result"
    }
   ],
   "source": [
    "filmi.ocena"
   ]
  },
  {
   "cell_type": "markdown",
   "metadata": {},
   "source": [
    "Če želimo več stolpcev, moramo za indeks podati seznam vseh oznak."
   ]
  },
  {
   "cell_type": "code",
   "execution_count": 8,
   "metadata": {
    "scrolled": false
   },
   "outputs": [
    {
     "data": {
      "text/html": [
       "<div>\n",
       "<style scoped>\n",
       "    .dataframe tbody tr th:only-of-type {\n",
       "        vertical-align: middle;\n",
       "    }\n",
       "\n",
       "    .dataframe tbody tr th {\n",
       "        vertical-align: top;\n",
       "    }\n",
       "\n",
       "    .dataframe thead th {\n",
       "        text-align: right;\n",
       "    }\n",
       "</style>\n",
       "<table border=\"1\" class=\"dataframe\">\n",
       "  <thead>\n",
       "    <tr style=\"text-align: right;\">\n",
       "      <th></th>\n",
       "      <th>naslov</th>\n",
       "      <th>ocena</th>\n",
       "    </tr>\n",
       "    <tr>\n",
       "      <th>id</th>\n",
       "      <th></th>\n",
       "      <th></th>\n",
       "    </tr>\n",
       "  </thead>\n",
       "  <tbody>\n",
       "    <tr>\n",
       "      <td>4972</td>\n",
       "      <td>The Birth of a Nation</td>\n",
       "      <td>6.4</td>\n",
       "    </tr>\n",
       "    <tr>\n",
       "      <td>6864</td>\n",
       "      <td>Intolerance: Love's Struggle Throughout the Ages</td>\n",
       "      <td>7.8</td>\n",
       "    </tr>\n",
       "    <tr>\n",
       "      <td>9968</td>\n",
       "      <td>Broken Blossoms or The Yellow Man and the Girl</td>\n",
       "      <td>7.4</td>\n",
       "    </tr>\n",
       "    <tr>\n",
       "      <td>10323</td>\n",
       "      <td>Das Cabinet des Dr. Caligari</td>\n",
       "      <td>8.1</td>\n",
       "    </tr>\n",
       "    <tr>\n",
       "      <td>12349</td>\n",
       "      <td>The Kid</td>\n",
       "      <td>8.3</td>\n",
       "    </tr>\n",
       "    <tr>\n",
       "      <td>...</td>\n",
       "      <td>...</td>\n",
       "      <td>...</td>\n",
       "    </tr>\n",
       "    <tr>\n",
       "      <td>9398640</td>\n",
       "      <td>Between Two Ferns: The Movie</td>\n",
       "      <td>6.2</td>\n",
       "    </tr>\n",
       "    <tr>\n",
       "      <td>9419834</td>\n",
       "      <td>Secret Obsession</td>\n",
       "      <td>4.3</td>\n",
       "    </tr>\n",
       "    <tr>\n",
       "      <td>9495224</td>\n",
       "      <td>Black Mirror: Bandersnatch</td>\n",
       "      <td>7.2</td>\n",
       "    </tr>\n",
       "    <tr>\n",
       "      <td>9860728</td>\n",
       "      <td>Falling Inn Love</td>\n",
       "      <td>5.6</td>\n",
       "    </tr>\n",
       "    <tr>\n",
       "      <td>10324144</td>\n",
       "      <td>Article 15</td>\n",
       "      <td>8.3</td>\n",
       "    </tr>\n",
       "  </tbody>\n",
       "</table>\n",
       "<p>10000 rows × 2 columns</p>\n",
       "</div>"
      ],
      "text/plain": [
       "                                                    naslov  ocena\n",
       "id                                                               \n",
       "4972                                 The Birth of a Nation    6.4\n",
       "6864      Intolerance: Love's Struggle Throughout the Ages    7.8\n",
       "9968        Broken Blossoms or The Yellow Man and the Girl    7.4\n",
       "10323                         Das Cabinet des Dr. Caligari    8.1\n",
       "12349                                              The Kid    8.3\n",
       "...                                                    ...    ...\n",
       "9398640                       Between Two Ferns: The Movie    6.2\n",
       "9419834                                   Secret Obsession    4.3\n",
       "9495224                         Black Mirror: Bandersnatch    7.2\n",
       "9860728                                   Falling Inn Love    5.6\n",
       "10324144                                        Article 15    8.3\n",
       "\n",
       "[10000 rows x 2 columns]"
      ]
     },
     "execution_count": 8,
     "metadata": {},
     "output_type": "execute_result"
    }
   ],
   "source": [
    "filmi[['naslov', 'ocena']]"
   ]
  },
  {
   "cell_type": "markdown",
   "metadata": {},
   "source": [
    "Do vrednosti z indeksom `i` dostopamo z `.iloc[i]`, do tiste s ključem `k` pa z `.loc[k]`."
   ]
  },
  {
   "cell_type": "code",
   "execution_count": 9,
   "metadata": {
    "scrolled": true
   },
   "outputs": [
    {
     "data": {
      "text/plain": [
       "naslov                                            Pravilo igre\n",
       "dolzina                                                    110\n",
       "leto                                                      1939\n",
       "ocena                                                      8.1\n",
       "metascore                                                  NaN\n",
       "glasovi                                                  24600\n",
       "zasluzek                                                   NaN\n",
       "oznaka                                                     NaN\n",
       "opis         A bourgeois life in France at the onset of Wor...\n",
       "Name: 31885, dtype: object"
      ]
     },
     "execution_count": 9,
     "metadata": {},
     "output_type": "execute_result"
    }
   ],
   "source": [
    "filmi.iloc[120]"
   ]
  },
  {
   "cell_type": "code",
   "execution_count": 10,
   "metadata": {},
   "outputs": [
    {
     "data": {
      "text/plain": [
       "naslov                 Indiana Jones in Zadnji križarski pohod\n",
       "dolzina                                                    127\n",
       "leto                                                      1989\n",
       "ocena                                                      8.2\n",
       "metascore                                                   65\n",
       "glasovi                                                 644185\n",
       "zasluzek                                           1.97172e+08\n",
       "oznaka                                                   PG-13\n",
       "opis         In 1938, after his father Professor Henry Jone...\n",
       "Name: 97576, dtype: object"
      ]
     },
     "execution_count": 10,
     "metadata": {},
     "output_type": "execute_result"
    }
   ],
   "source": [
    "filmi.loc[97576]"
   ]
  },
  {
   "cell_type": "markdown",
   "metadata": {},
   "source": [
    "## Filtriranje"
   ]
  },
  {
   "cell_type": "markdown",
   "metadata": {},
   "source": [
    "Izbor določenih vrstic razpredelnice naredimo tako, da za indeks podamo stolpec logičnih vrednosti, ki ga dobimo z običajnimi operacijami. V vrnjeni razpredelnici bodo ostale vrstice, pri katerih je v stolpcu vrednost `True`."
   ]
  },
  {
   "cell_type": "code",
   "execution_count": null,
   "metadata": {
    "scrolled": true
   },
   "outputs": [],
   "source": [
    "filmi.ocena >= 8"
   ]
  },
  {
   "cell_type": "code",
   "execution_count": null,
   "metadata": {
    "scrolled": false
   },
   "outputs": [],
   "source": [
    "filmi[filmi.ocena >= 9.3]"
   ]
  },
  {
   "cell_type": "code",
   "execution_count": null,
   "metadata": {},
   "outputs": [],
   "source": [
    "filmi[(filmi.leto > 2010) & (filmi.ocena > 8) | (filmi.ocena < 5)]"
   ]
  },
  {
   "cell_type": "markdown",
   "metadata": {},
   "source": [
    "### Naloga\n",
    "\n",
    "Poiščite filme, ki si jih želimo izogniti za vsako ceno, torej tiste, ki so daljši od dveh ur in imajo oceno pod 4."
   ]
  },
  {
   "cell_type": "code",
   "execution_count": null,
   "metadata": {},
   "outputs": [],
   "source": [
    "filmi[(filmi.dolzina > 120) & (filmi.ocena < 4) & (filmi.glasovi > 50000)]"
   ]
  },
  {
   "cell_type": "markdown",
   "metadata": {},
   "source": [
    "## Urejanje"
   ]
  },
  {
   "cell_type": "markdown",
   "metadata": {},
   "source": [
    "Razpredelnico urejamo z metodo `.sort_values`, ki ji podamo ime ali seznam imen stolpcev, po katerih želimo urejati. Po želji lahko tudi povemo, kateri stolpci naj bodo urejeni naraščajoče in kateri padajoče."
   ]
  },
  {
   "cell_type": "code",
   "execution_count": null,
   "metadata": {},
   "outputs": [],
   "source": [
    "filmi.sort_values('dolzina')"
   ]
  },
  {
   "cell_type": "code",
   "execution_count": null,
   "metadata": {
    "scrolled": false
   },
   "outputs": [],
   "source": [
    "# najprej uredi padajoče po oceni, pri vsaki oceni pa še naraščajoče po letu\n",
    "filmi.sort_values(['ocena', 'leto'], ascending=[False, True])"
   ]
  },
  {
   "cell_type": "markdown",
   "metadata": {},
   "source": [
    "## Združevanje"
   ]
  },
  {
   "cell_type": "markdown",
   "metadata": {},
   "source": [
    "Z metodo `.groupby` ustvarimo razpredelnico posebne vrste, v katerem so vrstice združene glede na skupno lastnost."
   ]
  },
  {
   "cell_type": "code",
   "execution_count": null,
   "metadata": {},
   "outputs": [],
   "source": [
    "filmi_po_letih = filmi.groupby('leto')"
   ]
  },
  {
   "cell_type": "code",
   "execution_count": null,
   "metadata": {},
   "outputs": [],
   "source": [
    "filmi_po_letih"
   ]
  },
  {
   "cell_type": "code",
   "execution_count": null,
   "metadata": {},
   "outputs": [],
   "source": [
    "# povprečna ocena vsakega leta\n",
    "filmi_po_letih.ocena.mean()"
   ]
  },
  {
   "cell_type": "markdown",
   "metadata": {},
   "source": [
    "Če želimo, lahko združujemo tudi po izračunanih lastnostih. Izračunajmo stolpec in ga shranimo v razpredelnico."
   ]
  },
  {
   "cell_type": "code",
   "execution_count": null,
   "metadata": {},
   "outputs": [],
   "source": [
    "filmi['desetletje'] = 10 * (filmi.leto // 10)"
   ]
  },
  {
   "cell_type": "code",
   "execution_count": null,
   "metadata": {},
   "outputs": [],
   "source": [
    "filmi"
   ]
  },
  {
   "cell_type": "code",
   "execution_count": null,
   "metadata": {},
   "outputs": [],
   "source": [
    "filmi_po_desetletjih = filmi.groupby('desetletje')"
   ]
  },
  {
   "cell_type": "markdown",
   "metadata": {},
   "source": [
    "Preštejemo, koliko filmov je bilo v vsakem desetletju. Pri večini stolpcev dobimo iste številke, ker imamo v vsakem stolpcu enako vnosov. Če kje kakšen podatek manjkal, je številka manjša."
   ]
  },
  {
   "cell_type": "code",
   "execution_count": null,
   "metadata": {},
   "outputs": [],
   "source": [
    "filmi_po_desetletjih.count()"
   ]
  },
  {
   "cell_type": "markdown",
   "metadata": {},
   "source": [
    "Če želimo dobiti le število članov posamezne skupine, uporabimo metodo `.size()`. V tem primeru dobimo le stolpec, ne razpredelnice."
   ]
  },
  {
   "cell_type": "code",
   "execution_count": null,
   "metadata": {},
   "outputs": [],
   "source": [
    "filmi_po_desetletjih.size()"
   ]
  },
  {
   "cell_type": "markdown",
   "metadata": {},
   "source": [
    "Pogledamo povprečja vsakega desetletja. Dobimo povprečno leto, dolžino, ocene in zaslužek. Povprečnega naslova ne dobimo, ker se ga ne da izračunati, zato ustreznega stolpca ni."
   ]
  },
  {
   "cell_type": "code",
   "execution_count": null,
   "metadata": {},
   "outputs": [],
   "source": [
    "filmi_po_desetletjih.mean()"
   ]
  },
  {
   "cell_type": "markdown",
   "metadata": {},
   "source": [
    "### Naloga\n",
    "\n",
    "Izračunajte število filmov posamezne dolžine, zaokrožene na 5 minut."
   ]
  },
  {
   "cell_type": "markdown",
   "metadata": {},
   "source": [
    "## Risanje grafov"
   ]
  },
  {
   "cell_type": "code",
   "execution_count": null,
   "metadata": {},
   "outputs": [],
   "source": [
    "# vključimo risanje grafov (če stvari začnejo delati počasneje, izklopimo možnost inline)\n",
    "%matplotlib inline"
   ]
  },
  {
   "cell_type": "markdown",
   "metadata": {},
   "source": [
    "Običajen graf dobimo z metodo `plot`. Uporabljamo ga, kadar želimo prikazati spreminjanje vrednosti v odvisnosti od zvezne spremenljivke. Naša hipoteza je, da so zlata leta filma mimo. Graf to zanika."
   ]
  },
  {
   "cell_type": "code",
   "execution_count": null,
   "metadata": {},
   "outputs": [],
   "source": [
    "filmi[filmi.ocena > 9].groupby('desetletje').size().plot()"
   ]
  },
  {
   "cell_type": "markdown",
   "metadata": {},
   "source": [
    "Razsevni diagram dobimo z metodo `plot.scatter`. Uporabljamo ga, če želimo ugotoviti povezavo med dvema spremenljivkama."
   ]
  },
  {
   "cell_type": "code",
   "execution_count": null,
   "metadata": {},
   "outputs": [],
   "source": [
    "filmi.plot.scatter('ocena', 'metascore')"
   ]
  },
  {
   "cell_type": "code",
   "execution_count": null,
   "metadata": {},
   "outputs": [],
   "source": [
    "filmi[filmi.dolzina < 250].plot.scatter('dolzina', 'ocena')"
   ]
  },
  {
   "cell_type": "markdown",
   "metadata": {},
   "source": [
    "Stolpčni diagram dobimo z metodo `plot.bar`. Uporabljamo ga, če želimo primerjati vrednosti pri diskretnih (običajno kategoričnih) spremenljivkah. Pogosto je koristno, da graf uredimo po vrednostih."
   ]
  },
  {
   "cell_type": "code",
   "execution_count": null,
   "metadata": {},
   "outputs": [],
   "source": [
    "filmi.sort_values('zasluzek', ascending=False).head(20).plot.bar(x='naslov', y='zasluzek')"
   ]
  },
  {
   "cell_type": "markdown",
   "metadata": {},
   "source": [
    "### Naloga\n",
    "\n",
    "Narišite grafe, ki ustrezno kažejo:\n",
    "- Povezavo med IMDB in metascore oceno\n",
    "- Spreminjanje povprečne dolžine filmov skozi leta"
   ]
  },
  {
   "cell_type": "markdown",
   "metadata": {},
   "source": [
    "## Stikanje"
   ]
  },
  {
   "cell_type": "code",
   "execution_count": null,
   "metadata": {},
   "outputs": [],
   "source": [
    "osebe = pd.read_csv('../../02-zajem-podatkov/predavanja/obdelani-podatki/osebe.csv', index_col='id')\n",
    "vloge = pd.read_csv('../../02-zajem-podatkov/predavanja/obdelani-podatki/vloge.csv')\n",
    "zanri = pd.read_csv('../../02-zajem-podatkov/predavanja/obdelani-podatki/zanri.csv')"
   ]
  },
  {
   "cell_type": "markdown",
   "metadata": {},
   "source": [
    "Razpredelnice stikamo s funkcijo `merge`, ki vrne razpredelnico vnosov iz obeh tabel, pri katerih se vsi istoimenski podatki ujemajo."
   ]
  },
  {
   "cell_type": "code",
   "execution_count": null,
   "metadata": {},
   "outputs": [],
   "source": [
    "vloge[vloge.film == 12349]"
   ]
  },
  {
   "cell_type": "code",
   "execution_count": null,
   "metadata": {},
   "outputs": [],
   "source": [
    "zanri[zanri.film == 12349]"
   ]
  },
  {
   "cell_type": "code",
   "execution_count": null,
   "metadata": {},
   "outputs": [],
   "source": [
    "pd.merge(vloge, zanri).head(20)"
   ]
  },
  {
   "cell_type": "markdown",
   "metadata": {},
   "source": [
    "V osnovi vsebuje staknjena razpredelnica le tiste vnose, ki se pojavijo v obeh tabelah. Temu principu pravimo notranji stik (_inner join_). Lahko pa se odločimo, da izberemo tudi tiste vnose, ki imajo podatke le v levi tabeli (_left join_), le v desni tabeli (_right join_) ali v vsaj eni tabeli (_outer join_). Če v eni tabeli ni vnosov, bodo v staknjeni tabeli označene manjkajoče vrednosti. Ker smo v našem primeru podatke jemali iz IMDBja, kjer so za vsak film določeni tako žanri kot vloge, do razlik ne pride."
   ]
  },
  {
   "cell_type": "markdown",
   "metadata": {},
   "source": [
    "Včasih želimo stikati tudi po stolpcih z različnimi imeni. V tem primeru funkciji `merge` podamo argumenta `left_on` in `right_on`."
   ]
  },
  {
   "cell_type": "code",
   "execution_count": null,
   "metadata": {},
   "outputs": [],
   "source": [
    "pd.merge(pd.merge(vloge, zanri), osebe, left_on='oseba', right_on='id')"
   ]
  },
  {
   "cell_type": "markdown",
   "metadata": {},
   "source": [
    "Poglejmo, katera osebe so nastopale v največ komedijah."
   ]
  },
  {
   "cell_type": "code",
   "execution_count": null,
   "metadata": {},
   "outputs": [],
   "source": [
    "zanri_oseb = pd.merge(pd.merge(vloge, zanri), osebe, left_on='oseba', right_on='id')\n",
    "zanri_oseb[\n",
    "    (zanri_oseb.zanr == 'Comedy') &\n",
    "    (zanri_oseb.vloga == 'I')\n",
    "].groupby(\n",
    "    'ime'\n",
    ").size(\n",
    ").sort_values(\n",
    "    ascending=False\n",
    ").head(20)"
   ]
  },
  {
   "cell_type": "markdown",
   "metadata": {},
   "source": [
    "### Naloga\n",
    "\n",
    "- Izračunajte povprečno oceno vsakega žanra.\n",
    "- Kateri režiserji snemajo najdonosnejše filme?"
   ]
  },
  {
   "cell_type": "markdown",
   "metadata": {},
   "source": [
    "## Zahtevnejši primer: naivni Bayesov klasifikator"
   ]
  },
  {
   "cell_type": "markdown",
   "metadata": {},
   "source": [
    "Zanima nas, ali lahko iz opisa filma napovemo njegove žanre. Gre za _klasifikacijski problem_, saj želimo filme klasificirati v žanre, naša naloga pa je napisati ustrezen program, ki mu pravimo _klasifikator_. Da zadevo naredimo bolj obvladljivo, bomo opis predstavili le z množico korenov besed, ki se v opisu pojavljajo."
   ]
  },
  {
   "cell_type": "code",
   "execution_count": null,
   "metadata": {},
   "outputs": [],
   "source": [
    "def koren_besede(beseda):\n",
    "    beseda = ''.join(znak for znak in beseda if znak.isalpha())\n",
    "    if not beseda:\n",
    "        return '$'\n",
    "    konec = len(beseda) - 1\n",
    "    if beseda[konec] in 'ds':\n",
    "        konec -= 1\n",
    "    while konec >= 0 and beseda[konec] in 'aeiou':\n",
    "        konec -= 1\n",
    "    return beseda[:konec + 1]\n",
    "\n",
    "def koreni_besed(niz):\n",
    "    return pd.Series(sorted({\n",
    "        koren_besede(beseda) for beseda in niz.replace('-', ' ').lower().split() if beseda\n",
    "    }))"
   ]
  },
  {
   "cell_type": "code",
   "execution_count": null,
   "metadata": {},
   "outputs": [],
   "source": [
    "koreni_besed(\"In 1938, after his father Professor Henry Jones, Sr. goes missing while pursuing the Holy Grail, Indiana Jones finds himself up against Adolf Hitler's Nazis again to stop them obtaining its powers.\")"
   ]
  },
  {
   "cell_type": "markdown",
   "metadata": {},
   "source": [
    "Zanimala nas bo torej verjetnost, da ima film žanr $Ž_i$ ob pogoju, da njegov opis vsebuje korene $K_1, \\ldots, K_m$, torej\n",
    "\n",
    "$$P(Ž_i | K_1 \\cap \\cdots \\cap K_n)$$\n",
    "\n",
    "Pri tem se bomo poslužili Bayesovega izreka\n",
    "\n",
    "$$P(A | B) = \\frac{P(A \\cap B)}{P(B)} = \\frac{P(B | A) \\cdot P(A)}{P(B)}$$\n",
    "\n",
    "zaradi česar našemu klasifikatorju pravimo _Bayesov klasifikator_. Velja\n",
    "\n",
    "$$P(Ž_i | K_1 \\cap \\cdots \\cap K_n) = \\frac{P(K_1 \\cap \\cdots \\cap K_n | Ž_i) \\cdot P(Ž_i)}{P(K_1 \\cap \\cdots \\cap K_n)}$$\n",
    "\n",
    "Nadalje si nalogo poenostavimo s predpostavko, da so pojavitve besed med seboj neodvisne. To sicer ni res, na primer ob besedi _treasure_ se bolj pogosto pojavlja beseda _hidden_ kot na primer _boring_, zato pravimo, da je klasifikator _naiven_. Ob tej predpostavki velja:\n",
    "\n",
    "$$P(K_1 \\cap \\cdots \\cap K_n | Ž_i) = P(K_1 | Ž_i) \\cdot \\cdots \\cdot P(K_n | Ž_i)$$\n",
    "\n",
    "oziroma\n",
    "\n",
    "$$P(Ž_i | K_1 \\cap \\cdots \\cap K_n) = \\frac{P(K_1 | Ž_i) \\cdot \\cdots \\cdot P(K_n | Ž_i) \\cdot P(Ž_i)}{P(K_1 \\cap \\cdots \\cap K_n)}$$\n",
    "\n",
    "Filmu, katerega opis vsebuje korene $K_1, \\dots, K_n$ bomo priredili tiste žanre $Ž_i$, pri katerih je dana verjetnost največja. Ker imenovalec ni odvisen od žanra, moramo torej za vsak $Ž_i$ izračunati le števec:\n",
    "\n",
    "$$P(K_1 | Ž_i) \\cdot \\cdots \\cdot P(K_n | Ž_i) \\cdot P(Ž_i)$$\n",
    "\n",
    "Vse te podatke znamo izračunati, zato se lahko lotimo dela."
   ]
  },
  {
   "cell_type": "markdown",
   "metadata": {},
   "source": [
    "Verjetnost posameznega žanra $P(Ž)$ izračunamo brez večjih težav:"
   ]
  },
  {
   "cell_type": "code",
   "execution_count": null,
   "metadata": {},
   "outputs": [],
   "source": [
    "verjetnosti_zanrov = zanri.groupby('zanr').size() / len(filmi)\n",
    "verjetnosti_zanrov.sort_values()"
   ]
  },
  {
   "cell_type": "markdown",
   "metadata": {},
   "source": [
    "Verjetnosti $P(K|Ž)$ bomo shranili v razpredelnico, v kateri bodo vrstice ustrezale korenom $K$, stolpci pa žanrom $Ž$. Najprej moramo poiskati vse filme, ki imajo žanr $Ž$, njihov opis pa vsebuje koren $K$. Vzemimo vse opise filmov:"
   ]
  },
  {
   "cell_type": "code",
   "execution_count": null,
   "metadata": {},
   "outputs": [],
   "source": [
    "filmi.opis"
   ]
  },
  {
   "cell_type": "markdown",
   "metadata": {},
   "source": [
    "To vrsto nizov pretvorimo v vrsto množic besed. Uporabimo metodo `apply`, ki dano funkcijo uporabi na vsakem vnosu."
   ]
  },
  {
   "cell_type": "code",
   "execution_count": null,
   "metadata": {},
   "outputs": [],
   "source": [
    "filmi.opis.apply(\n",
    "    koreni_besed\n",
    ")"
   ]
  },
  {
   "cell_type": "markdown",
   "metadata": {},
   "source": [
    "Po nekaj [iskanja po internetu](https://stackoverflow.com/questions/30885005/pandas-series-of-lists-to-one-series) in masiranja pridemo do iskane razpredelnice:"
   ]
  },
  {
   "cell_type": "code",
   "execution_count": null,
   "metadata": {},
   "outputs": [],
   "source": [
    "koreni_filmov = filmi.opis.apply(\n",
    "    koreni_besed\n",
    ").stack(\n",
    ").reset_index(\n",
    "    level='id'\n",
    ").rename(columns={\n",
    "    'id': 'film',\n",
    "    0: 'koren',\n",
    "})\n",
    "koreni_filmov"
   ]
  },
  {
   "cell_type": "markdown",
   "metadata": {},
   "source": [
    "Razpredelnico združimo z razpredelnico žanrov, da dobimo razpredelnico korenov žanrov."
   ]
  },
  {
   "cell_type": "code",
   "execution_count": null,
   "metadata": {},
   "outputs": [],
   "source": [
    "koreni_zanrov = pd.merge(\n",
    "    koreni_filmov,\n",
    "    zanri\n",
    ")[['koren', 'zanr']]\n",
    "koreni_zanrov"
   ]
  },
  {
   "cell_type": "markdown",
   "metadata": {},
   "source": [
    "S pomočjo funkcije `crosstab` preštejemo, kolikokrat se vsaka kombinacija pojavi."
   ]
  },
  {
   "cell_type": "code",
   "execution_count": null,
   "metadata": {},
   "outputs": [],
   "source": [
    "pojavitve_korenov_po_zanrih = pd.crosstab(koreni_zanrov.koren, koreni_zanrov.zanr)\n",
    "pojavitve_korenov_po_zanrih"
   ]
  },
  {
   "cell_type": "markdown",
   "metadata": {},
   "source": [
    "Iskane verjetnosti sedaj dobimo tako, da vsak stolpec delimo s številom filmov danega žanra. Da ne bomo dobili ničelne verjetnosti pri korenih, ki se v našem vzorcu ne pojavijo, verjetnost malenkost povečamo."
   ]
  },
  {
   "cell_type": "code",
   "execution_count": null,
   "metadata": {},
   "outputs": [],
   "source": [
    "verjetnosti_korenov_po_zanrih = pojavitve_korenov_po_zanrih / zanri.groupby('zanr').size() + 0.001"
   ]
  },
  {
   "cell_type": "markdown",
   "metadata": {},
   "source": [
    "Poglejmo, kaj so najpogostejši koreni pri nekaj žanrih:"
   ]
  },
  {
   "cell_type": "code",
   "execution_count": null,
   "metadata": {},
   "outputs": [],
   "source": [
    "verjetnosti_korenov_po_zanrih.Crime.sort_values(ascending=False).head(20)"
   ]
  },
  {
   "cell_type": "code",
   "execution_count": null,
   "metadata": {},
   "outputs": [],
   "source": [
    "verjetnosti_korenov_po_zanrih.Romance.sort_values(ascending=False).head(20)"
   ]
  },
  {
   "cell_type": "code",
   "execution_count": null,
   "metadata": {},
   "outputs": [],
   "source": [
    "verjetnosti_korenov_po_zanrih['Sci-Fi'].sort_values(ascending=False).head(20)"
   ]
  },
  {
   "cell_type": "markdown",
   "metadata": {},
   "source": [
    "Žanre sedaj določimo tako, da za vsak žanr pomnožimo verjetnost žanra in pogojne verjetnosti vseh korenov, ki nastopajo v opisu filma."
   ]
  },
  {
   "cell_type": "code",
   "execution_count": null,
   "metadata": {},
   "outputs": [],
   "source": [
    "def doloci_zanre(opis):\n",
    "    faktorji_zanrov = verjetnosti_zanrov * verjetnosti_korenov_po_zanrih[\n",
    "        verjetnosti_korenov_po_zanrih.index.isin(\n",
    "            koreni_besed(opis)\n",
    "        )\n",
    "    ].prod()\n",
    "    faktorji_zanrov /= max(faktorji_zanrov)\n",
    "    return faktorji_zanrov.sort_values(ascending=False).head(5)"
   ]
  },
  {
   "cell_type": "code",
   "execution_count": null,
   "metadata": {},
   "outputs": [],
   "source": [
    "doloci_zanre('Alien space ship appears above Slovenia.')"
   ]
  },
  {
   "cell_type": "code",
   "execution_count": null,
   "metadata": {},
   "outputs": [],
   "source": [
    "doloci_zanre('A story about a young mathematician, who discovers her artistic side')"
   ]
  }
 ],
 "metadata": {
  "kernelspec": {
   "display_name": "Python 3",
   "language": "python",
   "name": "python3"
  },
  "language_info": {
   "codemirror_mode": {
    "name": "ipython",
    "version": 3
   },
   "file_extension": ".py",
   "mimetype": "text/x-python",
   "name": "python",
   "nbconvert_exporter": "python",
   "pygments_lexer": "ipython3",
   "version": "3.7.4"
  }
 },
 "nbformat": 4,
 "nbformat_minor": 1
}
